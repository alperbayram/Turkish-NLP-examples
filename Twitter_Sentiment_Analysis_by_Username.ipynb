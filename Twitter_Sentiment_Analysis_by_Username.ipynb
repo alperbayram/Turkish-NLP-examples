{
  "nbformat": 4,
  "nbformat_minor": 0,
  "metadata": {
    "colab": {
      "name": "Twitter_Sentiment_Analysis_by_Username.ipynb",
      "provenance": [],
      "authorship_tag": "ABX9TyPJn0xNtfFEARZqWdZxuMdl",
      "include_colab_link": true
    },
    "kernelspec": {
      "name": "python3",
      "display_name": "Python 3"
    },
    "language_info": {
      "name": "python"
    }
  },
  "cells": [
    {
      "cell_type": "markdown",
      "metadata": {
        "id": "view-in-github",
        "colab_type": "text"
      },
      "source": [
        "<a href=\"https://colab.research.google.com/github/alperbayram/Turkish-NLP-examples/blob/main/Twitter_Sentiment_Analysis_by_Username.ipynb\" target=\"_parent\"><img src=\"https://colab.research.google.com/assets/colab-badge.svg\" alt=\"Open In Colab\"/></a>"
      ]
    },
    {
      "cell_type": "code",
      "metadata": {
        "colab": {
          "base_uri": "https://localhost:8080/"
        },
        "id": "er6Pv2JWsknV",
        "outputId": "9dbc39fb-0e6e-47e1-d87d-aed4858a5bd0"
      },
      "source": [
        "!pip install transformers"
      ],
      "execution_count": 60,
      "outputs": [
        {
          "output_type": "stream",
          "text": [
            "Requirement already satisfied: transformers in /usr/local/lib/python3.7/dist-packages (4.6.1)\n",
            "Requirement already satisfied: sacremoses in /usr/local/lib/python3.7/dist-packages (from transformers) (0.0.45)\n",
            "Requirement already satisfied: tokenizers<0.11,>=0.10.1 in /usr/local/lib/python3.7/dist-packages (from transformers) (0.10.3)\n",
            "Requirement already satisfied: requests in /usr/local/lib/python3.7/dist-packages (from transformers) (2.23.0)\n",
            "Requirement already satisfied: tqdm>=4.27 in /usr/local/lib/python3.7/dist-packages (from transformers) (4.41.1)\n",
            "Requirement already satisfied: huggingface-hub==0.0.8 in /usr/local/lib/python3.7/dist-packages (from transformers) (0.0.8)\n",
            "Requirement already satisfied: numpy>=1.17 in /usr/local/lib/python3.7/dist-packages (from transformers) (1.19.5)\n",
            "Requirement already satisfied: regex!=2019.12.17 in /usr/local/lib/python3.7/dist-packages (from transformers) (2019.12.20)\n",
            "Requirement already satisfied: filelock in /usr/local/lib/python3.7/dist-packages (from transformers) (3.0.12)\n",
            "Requirement already satisfied: importlib-metadata; python_version < \"3.8\" in /usr/local/lib/python3.7/dist-packages (from transformers) (4.0.1)\n",
            "Requirement already satisfied: packaging in /usr/local/lib/python3.7/dist-packages (from transformers) (20.9)\n",
            "Requirement already satisfied: six in /usr/local/lib/python3.7/dist-packages (from sacremoses->transformers) (1.15.0)\n",
            "Requirement already satisfied: joblib in /usr/local/lib/python3.7/dist-packages (from sacremoses->transformers) (1.0.1)\n",
            "Requirement already satisfied: click in /usr/local/lib/python3.7/dist-packages (from sacremoses->transformers) (7.1.2)\n",
            "Requirement already satisfied: certifi>=2017.4.17 in /usr/local/lib/python3.7/dist-packages (from requests->transformers) (2020.12.5)\n",
            "Requirement already satisfied: idna<3,>=2.5 in /usr/local/lib/python3.7/dist-packages (from requests->transformers) (2.10)\n",
            "Requirement already satisfied: chardet<4,>=3.0.2 in /usr/local/lib/python3.7/dist-packages (from requests->transformers) (3.0.4)\n",
            "Requirement already satisfied: urllib3!=1.25.0,!=1.25.1,<1.26,>=1.21.1 in /usr/local/lib/python3.7/dist-packages (from requests->transformers) (1.24.3)\n",
            "Requirement already satisfied: typing-extensions>=3.6.4; python_version < \"3.8\" in /usr/local/lib/python3.7/dist-packages (from importlib-metadata; python_version < \"3.8\"->transformers) (3.7.4.3)\n",
            "Requirement already satisfied: zipp>=0.5 in /usr/local/lib/python3.7/dist-packages (from importlib-metadata; python_version < \"3.8\"->transformers) (3.4.1)\n",
            "Requirement already satisfied: pyparsing>=2.0.2 in /usr/local/lib/python3.7/dist-packages (from packaging->transformers) (2.4.7)\n"
          ],
          "name": "stdout"
        }
      ]
    },
    {
      "cell_type": "code",
      "metadata": {
        "colab": {
          "base_uri": "https://localhost:8080/"
        },
        "id": "rs57vvI8wFYP",
        "outputId": "75183dbd-36d7-4cb1-8f5e-567759d36ecb"
      },
      "source": [
        "!pip install nest-asyncio"
      ],
      "execution_count": 61,
      "outputs": [
        {
          "output_type": "stream",
          "text": [
            "Requirement already satisfied: nest-asyncio in /usr/local/lib/python3.7/dist-packages (1.5.1)\n"
          ],
          "name": "stdout"
        }
      ]
    },
    {
      "cell_type": "code",
      "metadata": {
        "colab": {
          "base_uri": "https://localhost:8080/"
        },
        "id": "Gy2E3tOftAEx",
        "outputId": "7621c202-b4ae-4a81-e5cf-ff87db7f498e"
      },
      "source": [
        "!git clone --depth=1 https://github.com/twintproject/twint.git\n",
        "%cd twint\n",
        "!pip3 install . -r requirements.txt"
      ],
      "execution_count": 1,
      "outputs": [
        {
          "output_type": "stream",
          "text": [
            "fatal: destination path 'twint' already exists and is not an empty directory.\n",
            "/content/twint\n",
            "Processing /content/twint\n",
            "Requirement already satisfied: aiohttp in /usr/local/lib/python3.7/dist-packages (from -r requirements.txt (line 1)) (3.7.4.post0)\n",
            "Requirement already satisfied: aiodns in /usr/local/lib/python3.7/dist-packages (from -r requirements.txt (line 2)) (3.0.0)\n",
            "Requirement already satisfied: beautifulsoup4 in /usr/local/lib/python3.7/dist-packages (from -r requirements.txt (line 3)) (4.6.3)\n",
            "Requirement already satisfied: cchardet in /usr/local/lib/python3.7/dist-packages (from -r requirements.txt (line 4)) (2.1.7)\n",
            "Requirement already satisfied: dataclasses in /usr/local/lib/python3.7/dist-packages (from -r requirements.txt (line 5)) (0.6)\n",
            "Requirement already satisfied: elasticsearch in /usr/local/lib/python3.7/dist-packages (from -r requirements.txt (line 6)) (7.13.0)\n",
            "Requirement already satisfied: pysocks in /usr/local/lib/python3.7/dist-packages (from -r requirements.txt (line 7)) (1.7.1)\n",
            "Requirement already satisfied: pandas>=0.23.0 in /usr/local/lib/python3.7/dist-packages (from -r requirements.txt (line 8)) (1.1.5)\n",
            "Requirement already satisfied: aiohttp_socks<=0.4.1 in /usr/local/lib/python3.7/dist-packages (from -r requirements.txt (line 9)) (0.4.1)\n",
            "Requirement already satisfied: schedule in /usr/local/lib/python3.7/dist-packages (from -r requirements.txt (line 10)) (1.1.0)\n",
            "Requirement already satisfied: geopy in /usr/local/lib/python3.7/dist-packages (from -r requirements.txt (line 11)) (1.17.0)\n",
            "Requirement already satisfied: fake-useragent in /usr/local/lib/python3.7/dist-packages (from -r requirements.txt (line 12)) (0.1.11)\n",
            "Requirement already satisfied: googletransx in /usr/local/lib/python3.7/dist-packages (from -r requirements.txt (line 13)) (2.4.2)\n",
            "Requirement already satisfied: attrs>=17.3.0 in /usr/local/lib/python3.7/dist-packages (from aiohttp->-r requirements.txt (line 1)) (21.2.0)\n",
            "Requirement already satisfied: typing-extensions>=3.6.5 in /usr/local/lib/python3.7/dist-packages (from aiohttp->-r requirements.txt (line 1)) (3.7.4.3)\n",
            "Requirement already satisfied: multidict<7.0,>=4.5 in /usr/local/lib/python3.7/dist-packages (from aiohttp->-r requirements.txt (line 1)) (5.1.0)\n",
            "Requirement already satisfied: yarl<2.0,>=1.0 in /usr/local/lib/python3.7/dist-packages (from aiohttp->-r requirements.txt (line 1)) (1.6.3)\n",
            "Requirement already satisfied: async-timeout<4.0,>=3.0 in /usr/local/lib/python3.7/dist-packages (from aiohttp->-r requirements.txt (line 1)) (3.0.1)\n",
            "Requirement already satisfied: chardet<5.0,>=2.0 in /usr/local/lib/python3.7/dist-packages (from aiohttp->-r requirements.txt (line 1)) (3.0.4)\n",
            "Requirement already satisfied: pycares>=4.0.0 in /usr/local/lib/python3.7/dist-packages (from aiodns->-r requirements.txt (line 2)) (4.0.0)\n",
            "Requirement already satisfied: urllib3<2,>=1.21.1 in /usr/local/lib/python3.7/dist-packages (from elasticsearch->-r requirements.txt (line 6)) (1.24.3)\n",
            "Requirement already satisfied: certifi in /usr/local/lib/python3.7/dist-packages (from elasticsearch->-r requirements.txt (line 6)) (2020.12.5)\n",
            "Requirement already satisfied: numpy>=1.15.4 in /usr/local/lib/python3.7/dist-packages (from pandas>=0.23.0->-r requirements.txt (line 8)) (1.19.5)\n",
            "Requirement already satisfied: pytz>=2017.2 in /usr/local/lib/python3.7/dist-packages (from pandas>=0.23.0->-r requirements.txt (line 8)) (2018.9)\n",
            "Requirement already satisfied: python-dateutil>=2.7.3 in /usr/local/lib/python3.7/dist-packages (from pandas>=0.23.0->-r requirements.txt (line 8)) (2.8.1)\n",
            "Requirement already satisfied: geographiclib<2,>=1.49 in /usr/local/lib/python3.7/dist-packages (from geopy->-r requirements.txt (line 11)) (1.50)\n",
            "Requirement already satisfied: requests in /usr/local/lib/python3.7/dist-packages (from googletransx->-r requirements.txt (line 13)) (2.23.0)\n",
            "Requirement already satisfied: idna>=2.0 in /usr/local/lib/python3.7/dist-packages (from yarl<2.0,>=1.0->aiohttp->-r requirements.txt (line 1)) (2.10)\n",
            "Requirement already satisfied: cffi>=1.5.0 in /usr/local/lib/python3.7/dist-packages (from pycares>=4.0.0->aiodns->-r requirements.txt (line 2)) (1.14.5)\n",
            "Requirement already satisfied: six>=1.5 in /usr/local/lib/python3.7/dist-packages (from python-dateutil>=2.7.3->pandas>=0.23.0->-r requirements.txt (line 8)) (1.15.0)\n",
            "Requirement already satisfied: pycparser in /usr/local/lib/python3.7/dist-packages (from cffi>=1.5.0->pycares>=4.0.0->aiodns->-r requirements.txt (line 2)) (2.20)\n",
            "Building wheels for collected packages: twint\n",
            "  Building wheel for twint (setup.py) ... \u001b[?25l\u001b[?25hdone\n",
            "  Created wheel for twint: filename=twint-2.1.21-cp37-none-any.whl size=38863 sha256=45243a17a4156acb293ce921ebeab29fb796b6f346e338129c63deabddec6512\n",
            "  Stored in directory: /tmp/pip-ephem-wheel-cache-h9f8zqdv/wheels/c9/bb/bd/2b559954ecc4f4905266df71e9f2e08268750df0fa1ec1a4d2\n",
            "Successfully built twint\n",
            "Installing collected packages: twint\n",
            "  Found existing installation: twint 2.1.21\n",
            "    Uninstalling twint-2.1.21:\n",
            "      Successfully uninstalled twint-2.1.21\n",
            "Successfully installed twint-2.1.21\n"
          ],
          "name": "stdout"
        }
      ]
    },
    {
      "cell_type": "code",
      "metadata": {
        "id": "77v6MrmBseNj"
      },
      "source": [
        "import os\n",
        "import pandas as pd\n",
        "from warnings import filterwarnings\n",
        "filterwarnings('ignore')\n",
        "import numpy as np\n",
        "import matplotlib.pyplot as plt\n",
        "import csv\n",
        "from openpyxl import Workbook\n",
        "from datetime import datetime\n",
        "import seaborn as sns\n",
        "from scipy import stats\n",
        "from warnings import filterwarnings\n",
        "filterwarnings('ignore')"
      ],
      "execution_count": 2,
      "outputs": []
    },
    {
      "cell_type": "code",
      "metadata": {
        "id": "aNAjmYhest6Q"
      },
      "source": [
        "from pandas import Series, DataFrame\n",
        "from datetime import datetime"
      ],
      "execution_count": 3,
      "outputs": []
    },
    {
      "cell_type": "code",
      "metadata": {
        "colab": {
          "base_uri": "https://localhost:8080/"
        },
        "id": "E_FMtSsysv_P",
        "outputId": "c6c2f658-4219-4c2d-f738-f69ae8d0b789"
      },
      "source": [
        "now = datetime.now()\n",
        "date_time = now.strftime(\"%m/%d/%Y, %H:%M:%S\")\n",
        "print(\"date and time:\",date_time)"
      ],
      "execution_count": 4,
      "outputs": [
        {
          "output_type": "stream",
          "text": [
            "date and time: 05/31/2021, 23:54:18\n"
          ],
          "name": "stdout"
        }
      ]
    },
    {
      "cell_type": "code",
      "metadata": {
        "id": "hWqAowwktUxp"
      },
      "source": [
        "import nest_asyncio\n",
        "nest_asyncio.apply()# used once to enable concurrent actions within a Jupyter notebook."
      ],
      "execution_count": 5,
      "outputs": []
    },
    {
      "cell_type": "markdown",
      "metadata": {
        "id": "ysOcoTuD1Z8u"
      },
      "source": [
        "# [**Twint**](https://github.com/twintproject/twint)\n",
        "Python'da yazılmış, Twitter'ın API'sini kullanmayan gelişmiş bir Twitter kazıma ve OSINT aracı, çoğu API sınırlamasından kaçarken bir kullanıcının takipçilerini, takiplerini, Tweetlerini ve daha fazlasını kazımanıza olanak tanır."
      ]
    },
    {
      "cell_type": "code",
      "metadata": {
        "colab": {
          "base_uri": "https://localhost:8080/"
        },
        "id": "dC3v_TEwv0HR",
        "outputId": "81b4a72e-2f8a-402d-e85f-137fe4e1f120"
      },
      "source": [
        "import twint\n",
        "   \n",
        "print (\"tweet alınıyor...\")\n",
        "c = twint.Config()\n",
        "# kullanıcı adı giriniz\n",
        "#c.Username = input('Username: ') \n",
        "c.Username = 'alperbayrmm'\n",
        "c.Custom[\"tweet\"] = [\"date\", \"username\",\"hour\"]\n",
        "c.Pandas = True\n",
        "twint.run.Search(c)\n",
        "Tweets_df = twint.storage.panda.Tweets_df\n",
        "print('başarılı!')"
      ],
      "execution_count": 8,
      "outputs": [
        {
          "output_type": "stream",
          "text": [
            "tweet alınıyor...\n",
            "1399462097671577601 2021-05-31 20:25:39 +0000 <alperbayrmm> O dur o anladın sen onu #SendenNefretEdiyoruz\n",
            "1399104588368785409 2021-05-30 20:45:02 +0000 <alperbayrmm> Hayırlı uğurlu olsun  https://t.co/gX40hciCHk\n",
            "1399100390138953730 2021-05-30 20:28:21 +0000 <alperbayrmm> Basket faul ya mükemmelsiniz\n",
            "1399091023293431811 2021-05-30 19:51:08 +0000 <alperbayrmm> Larkin yeterki istesin evden atar basketi\n",
            "1399085237469077506 2021-05-30 19:28:09 +0000 <alperbayrmm> 1.0 da faul aldı Anadolu Efes mükemmel\n",
            "1398585579516928000 2021-05-29 10:22:41 +0000 <alperbayrmm> ben hayatın sillesini yemiş ve üzerine depiklerle yere düştükten sonra hayat tarafından yerde tekmelenmiş bir insanım\n",
            "1398584458694074377 2021-05-29 10:18:14 +0000 <alperbayrmm> hayatı şikayet ediyorum\n",
            "1398249299381731334 2021-05-28 12:06:25 +0000 <alperbayrmm> Cv\n",
            "1397672943837237254 2021-05-26 21:56:11 +0000 <alperbayrmm> penaltılar bitmeyecek sandım #UELfinal\n",
            "1396958781729386497 2021-05-24 22:38:22 +0000 <alperbayrmm> bu gecenin sorumlusu ben miyim\n",
            "1396921312233275395 2021-05-24 20:09:29 +0000 <alperbayrmm> Abi hiç gülünecek bir durum yok tüm Türkiye izliyor gülebiliyor\n",
            "1396911261842030592 2021-05-24 19:29:32 +0000 <alperbayrmm> Biz ne izliyoz abi ooo\n",
            "1396904828392071170 2021-05-24 19:03:58 +0000 <alperbayrmm> Soru soramayacaklarsa bu gazeteciler niye çıktı\n",
            "1396898844420546562 2021-05-24 18:40:12 +0000 <alperbayrmm> adam konuşuyor ama konuşmanın arkasında durmuyor..\n",
            "1396894901133094924 2021-05-24 18:24:32 +0000 <alperbayrmm> açtık habertürkü de bu adam ne anlatıyor böyle yine kendilerini övme falan... iş dönüp dolaşıp işin başı israil demeseler bari\n",
            "1396469939037515782 2021-05-23 14:15:53 +0000 <alperbayrmm> emoji dnm 😀😃😄😁😆😅😂🤣😇😍🥰😡🤬🥺😬😎😈😴😤🥱\n",
            "1395056914195746822 2021-05-19 16:41:01 +0000 <alperbayrmm> Konuyla ne alakası var\n",
            "1394357513668251652 2021-05-17 18:21:51 +0000 <alperbayrmm> Bi mevzuya da bakmayın kardeşim gidin başka işle uğraşın lan\n",
            "1394357382189305857 2021-05-17 18:21:20 +0000 <alperbayrmm> Ayrıca bu sektörde türeyen Hintlilerin amk karşılaşırsam hiç acımam\n",
            "1390445981787959311 2021-05-06 23:18:49 +0000 <alperbayrmm> It's programmed jajajjaj $link  https://t.co/5KQclpTf9v\n",
            "1390107511013916675 2021-05-06 00:53:52 +0000 <alperbayrmm> karanfilsin tarçınsın neden böyle hırçınsın\n",
            "1389741422056706050 2021-05-05 00:39:09 +0000 <alperbayrmm> #LINK 50$ olsun benim kumarım biter\n",
            "1389603879856349189 2021-05-04 15:32:37 +0000 <alperbayrmm> Bugün sıra altcoinlere gelmicek galiba\n",
            "1389603030228684803 2021-05-04 15:29:14 +0000 <alperbayrmm> Benim beyin firar\n",
            "1389602909172666372 2021-05-04 15:28:45 +0000 <alperbayrmm> O kadar çok öğrenmem gereken şey varki bu yükün altında kalmam umarım\n",
            "1389494282919239681 2021-05-04 08:17:07 +0000 <alperbayrmm> #DogecoinToTheMoon\n",
            "1389490959633850374 2021-05-04 08:03:54 +0000 <alperbayrmm> elon musk twit atsın diye bekliyorum x2 yapar\n",
            "1389269752238022656 2021-05-03 17:24:54 +0000 <alperbayrmm> @berkkberkkberkk @SonGulyabani @jeandpardaillan Ahmet Hamdi Tanpınar ?\n",
            "1389240778497699840 2021-05-03 15:29:47 +0000 <alperbayrmm> adama lisans verdik amk kullansın diye bi süre ulan git bari kendine crack falan yap sen nasıl piyasanın ekmeğini yiyorsun hayret\n",
            "1389239875614957571 2021-05-03 15:26:11 +0000 <alperbayrmm> bu kapatmalar yüzünden etkilenmeyen yoktur...\n",
            "1389127423971713026 2021-05-03 07:59:21 +0000 <alperbayrmm> bu da bi teşekkür etme yöntemi galiba.. ya da kullanılmışlık hissi  https://t.co/IxT5jaReWN\n",
            "1388699270883184642 2021-05-02 03:38:01 +0000 <alperbayrmm> @merveseell bangırr bangırr\n",
            "1388205721343430659 2021-04-30 18:56:50 +0000 <alperbayrmm> dağa tırmanıyoruz sanki yorulan bıraksın #sxp\n",
            "1387968739715473408 2021-04-30 03:15:09 +0000 <alperbayrmm> Ay’ı aydınlattık  https://t.co/rquOWMlKpT\n",
            "1387967980441645065 2021-04-30 03:12:08 +0000 <alperbayrmm> Oksijeni içimde hissettim şuan\n",
            "1387582407625347072 2021-04-29 01:40:00 +0000 <alperbayrmm> @cointoloji bizde kestiriyoruz yükseleceğini allaha şükür sen bi sonuça vardın sandım\n",
            "1387582248745062401 2021-04-29 01:39:22 +0000 <alperbayrmm> uyuyakalmışım uyandık\n",
            "1387581850453958656 2021-04-29 01:37:47 +0000 <alperbayrmm> @cointoloji sonuç olarak kardeşim\n",
            "1387581636481622016 2021-04-29 01:36:56 +0000 <alperbayrmm> #sxp kardeşim yavaş yavaş böyle ataklar bizi korkutur\n",
            "1387427919136444416 2021-04-28 15:26:07 +0000 <alperbayrmm> Kafamı bir araya getiremiyorum\n",
            "1386710028116180996 2021-04-26 15:53:29 +0000 <alperbayrmm> Kardeşim helikopter\n",
            "1386095473350660102 2021-04-24 23:11:27 +0000 <alperbayrmm> @Samilkrt @wowage Ulan bi tatil yapsam dert tasa kalmaz\n",
            "1384061769975418885 2021-04-19 08:30:15 +0000 <alperbayrmm> I just published FİNANSTA BLOCKCHAIN TEKNOLOJİSİ  https://t.co/TucfLpyCqt\n",
            "1378258756627279874 2021-04-03 08:11:09 +0000 <alperbayrmm> Sabah sabah kırmızı oda dizisinin sesini duyarak uyandım çıldırıcam\n",
            "1378165823588737024 2021-04-03 02:01:52 +0000 <alperbayrmm> Saat beşte aklımdan çıkmayan am sorri ha    https://t.co/XYjM9UDQZx\n",
            "1377684274795716613 2021-04-01 18:08:21 +0000 <alperbayrmm> bugün trendyolda işe girmedim\n",
            "1361056963484909581 2021-02-14 20:57:21 +0000 <alperbayrmm> Adamın sesi gelmiyor amk\n",
            "1344059339808657414 2020-12-29 23:14:52 +0000 <alperbayrmm> Im not normal\n",
            "[!] No more data! Scraping will stop now.\n",
            "found 0 deleted tweets in this search.\n",
            "başarılı!\n"
          ],
          "name": "stdout"
        }
      ]
    },
    {
      "cell_type": "code",
      "metadata": {
        "id": "WPSXvie8wf5u"
      },
      "source": [
        "    df_Tweetler=Tweets_df.filter(items=['tweet'])\n",
        "    df_Tweets = pd.DataFrame(df_Tweetler)"
      ],
      "execution_count": 10,
      "outputs": []
    },
    {
      "cell_type": "code",
      "metadata": {
        "colab": {
          "base_uri": "https://localhost:8080/"
        },
        "id": "UOX8qLymwj_8",
        "outputId": "5d64f066-a5e1-4e9e-beb1-94793a6823f7"
      },
      "source": [
        " df_Tweets.info() "
      ],
      "execution_count": 11,
      "outputs": [
        {
          "output_type": "stream",
          "text": [
            "<class 'pandas.core.frame.DataFrame'>\n",
            "RangeIndex: 48 entries, 0 to 47\n",
            "Data columns (total 1 columns):\n",
            " #   Column  Non-Null Count  Dtype \n",
            "---  ------  --------------  ----- \n",
            " 0   tweet   48 non-null     object\n",
            "dtypes: object(1)\n",
            "memory usage: 512.0+ bytes\n"
          ],
          "name": "stdout"
        }
      ]
    },
    {
      "cell_type": "markdown",
      "metadata": {
        "id": "9jlRBEZ7yjfJ"
      },
      "source": [
        "# **Tweetlerin temizlenmesi **"
      ]
    },
    {
      "cell_type": "code",
      "metadata": {
        "id": "UB3W50uaxIYz"
      },
      "source": [
        "\n",
        "#noktalama işaretleri\n",
        "df_Tweets[\"tweet\"] = df_Tweets[\"tweet\"].str.replace('[^\\w\\s]','')\n",
        "# #sayılar\n",
        "df_Tweets[\"tweet\"]= df_Tweets[\"tweet\"].str.replace('\\d','')\n",
        "# df_Tweetler[\"Tweets\"]= df_Tweetler[\"Tweets\"].str.replace('(?:\\@|http?\\://|https?\\://|www\\S+)','')\n",
        "df_Tweets[\"tweet\"]= df_Tweets[\"tweet\"].str.replace('@[A-Za-z0-9]+','')\n",
        "df_Tweets[\"tweet\"] =df_Tweets[\"tweet\"].str.replace('http\\S+','')"
      ],
      "execution_count": 12,
      "outputs": []
    },
    {
      "cell_type": "markdown",
      "metadata": {
        "id": "h4JjAqPixLuK"
      },
      "source": [
        "# **DUYGU ANALİZİ KISMI BERT MODELLERİNİN YÜKLENMESİ**"
      ]
    },
    {
      "cell_type": "code",
      "metadata": {
        "id": "s2suB7WxxYC2"
      },
      "source": [
        "from transformers import pipeline, AutoModelForTokenClassification, AutoTokenizer, AutoModelForSequenceClassification"
      ],
      "execution_count": 13,
      "outputs": []
    },
    {
      "cell_type": "code",
      "metadata": {
        "id": "cnUR7hMfxdLV"
      },
      "source": [
        "tokenizer= AutoTokenizer.from_pretrained(\"savasy/bert-base-turkish-sentiment-cased\")\n",
        "model= AutoModelForSequenceClassification.from_pretrained(\"savasy/bert-base-turkish-sentiment-cased\")"
      ],
      "execution_count": 14,
      "outputs": []
    },
    {
      "cell_type": "code",
      "metadata": {
        "id": "KZLHuZ0exmVG"
      },
      "source": [
        "analysis=pipeline(\"sentiment-analysis\", model=model, tokenizer=tokenizer)"
      ],
      "execution_count": 15,
      "outputs": []
    },
    {
      "cell_type": "code",
      "metadata": {
        "colab": {
          "base_uri": "https://localhost:8080/"
        },
        "id": "OJezzfROxq4t",
        "outputId": "149884ef-7b63-4ccb-e83d-aefde45a0c1e"
      },
      "source": [
        "analysis(\"allah belanı versin. seni sevmiyorum.\")"
      ],
      "execution_count": 25,
      "outputs": [
        {
          "output_type": "execute_result",
          "data": {
            "text/plain": [
              "[{'label': 'negative', 'score': 0.9965597987174988}]"
            ]
          },
          "metadata": {
            "tags": []
          },
          "execution_count": 25
        }
      ]
    },
    {
      "cell_type": "code",
      "metadata": {
        "id": "GX48T-53zqU5"
      },
      "source": [
        "code_to_label={\n",
        " 'negative': 'negatif',\n",
        " 'positive': 'pozitif',\n",
        "    'notr': 'notr'\n",
        "    \n",
        "}"
      ],
      "execution_count": 26,
      "outputs": []
    },
    {
      "cell_type": "code",
      "metadata": {
        "colab": {
          "base_uri": "https://localhost:8080/"
        },
        "id": "03jjCj38xx4A",
        "outputId": "22b33877-3e87-4738-e28d-37ffc6c6af49"
      },
      "source": [
        "orders = df_Tweets.value_counts().count()\n",
        "print('Tweet sayısı :',orders)\n",
        "#len(df_Tweetler.Tweets)"
      ],
      "execution_count": 27,
      "outputs": [
        {
          "output_type": "stream",
          "text": [
            "Tweet sayısı : 48\n"
          ],
          "name": "stdout"
        }
      ]
    },
    {
      "cell_type": "code",
      "metadata": {
        "colab": {
          "base_uri": "https://localhost:8080/"
        },
        "id": "1KadtQ3EyKOO",
        "outputId": "08b5f568-1300-4ae7-857d-7f7ce16aa173"
      },
      "source": [
        "Tweet = list(df_Tweets['tweet'])\n",
        "Tweet"
      ],
      "execution_count": 28,
      "outputs": [
        {
          "output_type": "execute_result",
          "data": {
            "text/plain": [
              "['O dur o anladın sen onu SendenNefretEdiyoruz',\n",
              " 'Hayırlı uğurlu olsun  ',\n",
              " 'Basket faul ya mükemmelsiniz',\n",
              " 'Larkin yeterki istesin evden atar basketi',\n",
              " ' da faul aldı Anadolu Efes mükemmel',\n",
              " 'ben hayatın sillesini yemiş ve üzerine depiklerle yere düştükten sonra hayat tarafından yerde tekmelenmiş bir insanım',\n",
              " 'hayatı şikayet ediyorum',\n",
              " 'Cv',\n",
              " 'penaltılar bitmeyecek sandım UELfinal',\n",
              " 'bu gecenin sorumlusu ben miyim',\n",
              " 'Abi hiç gülünecek bir durum yok tüm Türkiye izliyor gülebiliyor',\n",
              " 'Biz ne izliyoz abi ooo',\n",
              " 'Soru soramayacaklarsa bu gazeteciler niye çıktı',\n",
              " 'adam konuşuyor ama konuşmanın arkasında durmuyor',\n",
              " 'açtık habertürkü de bu adam ne anlatıyor böyle yine kendilerini övme falan iş dönüp dolaşıp işin başı israil demeseler bari',\n",
              " 'emoji dnm ',\n",
              " 'Konuyla ne alakası var',\n",
              " 'Bi mevzuya da bakmayın kardeşim gidin başka işle uğraşın lan',\n",
              " 'Ayrıca bu sektörde türeyen Hintlilerin amk karşılaşırsam hiç acımam',\n",
              " 'Its programmed jajajjaj link  ',\n",
              " 'karanfilsin tarçınsın neden böyle hırçınsın',\n",
              " 'LINK  olsun benim kumarım biter',\n",
              " 'Bugün sıra altcoinlere gelmicek galiba',\n",
              " 'Benim beyin firar',\n",
              " 'O kadar çok öğrenmem gereken şey varki bu yükün altında kalmam umarım',\n",
              " 'DogecoinToTheMoon',\n",
              " 'elon musk twit atsın diye bekliyorum x yapar',\n",
              " 'berkkberkkberkk SonGulyabani jeandpardaillan Ahmet Hamdi Tanpınar ',\n",
              " 'adama lisans verdik amk kullansın diye bi süre ulan git bari kendine crack falan yap sen nasıl piyasanın ekmeğini yiyorsun hayret',\n",
              " 'bu kapatmalar yüzünden etkilenmeyen yoktur',\n",
              " 'bu da bi teşekkür etme yöntemi galiba ya da kullanılmışlık hissi  ',\n",
              " 'merveseell bangırr bangırr',\n",
              " 'dağa tırmanıyoruz sanki yorulan bıraksın sxp',\n",
              " 'Ayı aydınlattık  ',\n",
              " 'Oksijeni içimde hissettim şuan',\n",
              " 'cointoloji bizde kestiriyoruz yükseleceğini allaha şükür sen bi sonuça vardın sandım',\n",
              " 'uyuyakalmışım uyandık',\n",
              " 'cointoloji sonuç olarak kardeşim',\n",
              " 'sxp kardeşim yavaş yavaş böyle ataklar bizi korkutur',\n",
              " 'Kafamı bir araya getiremiyorum',\n",
              " 'Kardeşim helikopter',\n",
              " 'Samilkrt wowage Ulan bi tatil yapsam dert tasa kalmaz',\n",
              " 'I just published FİNANSTA BLOCKCHAIN TEKNOLOJİSİ  ',\n",
              " 'Sabah sabah kırmızı oda dizisinin sesini duyarak uyandım çıldırıcam',\n",
              " 'Saat beşte aklımdan çıkmayan am sorri ha    ',\n",
              " 'bugün trendyolda işe girmedim',\n",
              " 'Adamın sesi gelmiyor amk',\n",
              " 'Im not normal']"
            ]
          },
          "metadata": {
            "tags": []
          },
          "execution_count": 28
        }
      ]
    },
    {
      "cell_type": "markdown",
      "metadata": {
        "id": "Umqr5mIjzWFE"
      },
      "source": [
        "# **Tweeetlerin tek tek gezilmesi ve sonuçların ve scorun boş diziye aktarılması**"
      ]
    },
    {
      "cell_type": "code",
      "metadata": {
        "id": "qAL5_l6OzR9c"
      },
      "source": [
        "d= list()\n",
        "k= list()\n",
        "for i in range(orders):\n",
        "                    c= analysis(Tweet[i])\n",
        "                    #a = c[0]['label']\n",
        "                    a = code_to_label[c[0]['label']]\n",
        "                    h =  c[0]['score']\n",
        "                    #d =np.append(a)\n",
        "                    d.append(a)\n",
        "                    k.append(h)"
      ],
      "execution_count": 29,
      "outputs": []
    },
    {
      "cell_type": "markdown",
      "metadata": {
        "id": "xgqsxrsxz5eD"
      },
      "source": [
        "# **Sonuçların Tabloya eklenmesi**"
      ]
    },
    {
      "cell_type": "code",
      "metadata": {
        "id": "OGJgJU-wzxMJ"
      },
      "source": [
        "d\n",
        "df_Tweetler[\"Tweets_duygu\"]= pd.DataFrame(d)\n",
        "#df_Tweetler[\"Tweets_duygu\"]=df_Tweetler[\"Tweets\"].map(lambda x: \"\".join(d))\n"
      ],
      "execution_count": 30,
      "outputs": []
    },
    {
      "cell_type": "code",
      "metadata": {
        "colab": {
          "base_uri": "https://localhost:8080/",
          "height": 1000
        },
        "id": "5fOB047vz_fG",
        "outputId": "84eab32f-224f-425f-da72-a887ab7fbbb5"
      },
      "source": [
        "df_Tweetler"
      ],
      "execution_count": 31,
      "outputs": [
        {
          "output_type": "execute_result",
          "data": {
            "text/html": [
              "<div>\n",
              "<style scoped>\n",
              "    .dataframe tbody tr th:only-of-type {\n",
              "        vertical-align: middle;\n",
              "    }\n",
              "\n",
              "    .dataframe tbody tr th {\n",
              "        vertical-align: top;\n",
              "    }\n",
              "\n",
              "    .dataframe thead th {\n",
              "        text-align: right;\n",
              "    }\n",
              "</style>\n",
              "<table border=\"1\" class=\"dataframe\">\n",
              "  <thead>\n",
              "    <tr style=\"text-align: right;\">\n",
              "      <th></th>\n",
              "      <th>tweet</th>\n",
              "      <th>Tweets_duygu</th>\n",
              "    </tr>\n",
              "  </thead>\n",
              "  <tbody>\n",
              "    <tr>\n",
              "      <th>0</th>\n",
              "      <td>O dur o anladın sen onu SendenNefretEdiyoruz</td>\n",
              "      <td>pozitif</td>\n",
              "    </tr>\n",
              "    <tr>\n",
              "      <th>1</th>\n",
              "      <td>Hayırlı uğurlu olsun</td>\n",
              "      <td>pozitif</td>\n",
              "    </tr>\n",
              "    <tr>\n",
              "      <th>2</th>\n",
              "      <td>Basket faul ya mükemmelsiniz</td>\n",
              "      <td>pozitif</td>\n",
              "    </tr>\n",
              "    <tr>\n",
              "      <th>3</th>\n",
              "      <td>Larkin yeterki istesin evden atar basketi</td>\n",
              "      <td>pozitif</td>\n",
              "    </tr>\n",
              "    <tr>\n",
              "      <th>4</th>\n",
              "      <td>da faul aldı Anadolu Efes mükemmel</td>\n",
              "      <td>pozitif</td>\n",
              "    </tr>\n",
              "    <tr>\n",
              "      <th>5</th>\n",
              "      <td>ben hayatın sillesini yemiş ve üzerine depikle...</td>\n",
              "      <td>negatif</td>\n",
              "    </tr>\n",
              "    <tr>\n",
              "      <th>6</th>\n",
              "      <td>hayatı şikayet ediyorum</td>\n",
              "      <td>negatif</td>\n",
              "    </tr>\n",
              "    <tr>\n",
              "      <th>7</th>\n",
              "      <td>Cv</td>\n",
              "      <td>pozitif</td>\n",
              "    </tr>\n",
              "    <tr>\n",
              "      <th>8</th>\n",
              "      <td>penaltılar bitmeyecek sandım UELfinal</td>\n",
              "      <td>pozitif</td>\n",
              "    </tr>\n",
              "    <tr>\n",
              "      <th>9</th>\n",
              "      <td>bu gecenin sorumlusu ben miyim</td>\n",
              "      <td>negatif</td>\n",
              "    </tr>\n",
              "    <tr>\n",
              "      <th>10</th>\n",
              "      <td>Abi hiç gülünecek bir durum yok tüm Türkiye iz...</td>\n",
              "      <td>pozitif</td>\n",
              "    </tr>\n",
              "    <tr>\n",
              "      <th>11</th>\n",
              "      <td>Biz ne izliyoz abi ooo</td>\n",
              "      <td>pozitif</td>\n",
              "    </tr>\n",
              "    <tr>\n",
              "      <th>12</th>\n",
              "      <td>Soru soramayacaklarsa bu gazeteciler niye çıktı</td>\n",
              "      <td>negatif</td>\n",
              "    </tr>\n",
              "    <tr>\n",
              "      <th>13</th>\n",
              "      <td>adam konuşuyor ama konuşmanın arkasında durmuyor</td>\n",
              "      <td>negatif</td>\n",
              "    </tr>\n",
              "    <tr>\n",
              "      <th>14</th>\n",
              "      <td>açtık habertürkü de bu adam ne anlatıyor böyle...</td>\n",
              "      <td>negatif</td>\n",
              "    </tr>\n",
              "    <tr>\n",
              "      <th>15</th>\n",
              "      <td>emoji dnm</td>\n",
              "      <td>pozitif</td>\n",
              "    </tr>\n",
              "    <tr>\n",
              "      <th>16</th>\n",
              "      <td>Konuyla ne alakası var</td>\n",
              "      <td>negatif</td>\n",
              "    </tr>\n",
              "    <tr>\n",
              "      <th>17</th>\n",
              "      <td>Bi mevzuya da bakmayın kardeşim gidin başka iş...</td>\n",
              "      <td>negatif</td>\n",
              "    </tr>\n",
              "    <tr>\n",
              "      <th>18</th>\n",
              "      <td>Ayrıca bu sektörde türeyen Hintlilerin amk kar...</td>\n",
              "      <td>negatif</td>\n",
              "    </tr>\n",
              "    <tr>\n",
              "      <th>19</th>\n",
              "      <td>Its programmed jajajjaj link</td>\n",
              "      <td>pozitif</td>\n",
              "    </tr>\n",
              "    <tr>\n",
              "      <th>20</th>\n",
              "      <td>karanfilsin tarçınsın neden böyle hırçınsın</td>\n",
              "      <td>negatif</td>\n",
              "    </tr>\n",
              "    <tr>\n",
              "      <th>21</th>\n",
              "      <td>LINK  olsun benim kumarım biter</td>\n",
              "      <td>negatif</td>\n",
              "    </tr>\n",
              "    <tr>\n",
              "      <th>22</th>\n",
              "      <td>Bugün sıra altcoinlere gelmicek galiba</td>\n",
              "      <td>negatif</td>\n",
              "    </tr>\n",
              "    <tr>\n",
              "      <th>23</th>\n",
              "      <td>Benim beyin firar</td>\n",
              "      <td>negatif</td>\n",
              "    </tr>\n",
              "    <tr>\n",
              "      <th>24</th>\n",
              "      <td>O kadar çok öğrenmem gereken şey varki bu yükü...</td>\n",
              "      <td>pozitif</td>\n",
              "    </tr>\n",
              "    <tr>\n",
              "      <th>25</th>\n",
              "      <td>DogecoinToTheMoon</td>\n",
              "      <td>pozitif</td>\n",
              "    </tr>\n",
              "    <tr>\n",
              "      <th>26</th>\n",
              "      <td>elon musk twit atsın diye bekliyorum x yapar</td>\n",
              "      <td>pozitif</td>\n",
              "    </tr>\n",
              "    <tr>\n",
              "      <th>27</th>\n",
              "      <td>berkkberkkberkk SonGulyabani jeandpardaillan A...</td>\n",
              "      <td>pozitif</td>\n",
              "    </tr>\n",
              "    <tr>\n",
              "      <th>28</th>\n",
              "      <td>adama lisans verdik amk kullansın diye bi süre...</td>\n",
              "      <td>negatif</td>\n",
              "    </tr>\n",
              "    <tr>\n",
              "      <th>29</th>\n",
              "      <td>bu kapatmalar yüzünden etkilenmeyen yoktur</td>\n",
              "      <td>negatif</td>\n",
              "    </tr>\n",
              "    <tr>\n",
              "      <th>30</th>\n",
              "      <td>bu da bi teşekkür etme yöntemi galiba ya da ku...</td>\n",
              "      <td>negatif</td>\n",
              "    </tr>\n",
              "    <tr>\n",
              "      <th>31</th>\n",
              "      <td>merveseell bangırr bangırr</td>\n",
              "      <td>pozitif</td>\n",
              "    </tr>\n",
              "    <tr>\n",
              "      <th>32</th>\n",
              "      <td>dağa tırmanıyoruz sanki yorulan bıraksın sxp</td>\n",
              "      <td>pozitif</td>\n",
              "    </tr>\n",
              "    <tr>\n",
              "      <th>33</th>\n",
              "      <td>Ayı aydınlattık</td>\n",
              "      <td>negatif</td>\n",
              "    </tr>\n",
              "    <tr>\n",
              "      <th>34</th>\n",
              "      <td>Oksijeni içimde hissettim şuan</td>\n",
              "      <td>pozitif</td>\n",
              "    </tr>\n",
              "    <tr>\n",
              "      <th>35</th>\n",
              "      <td>cointoloji bizde kestiriyoruz yükseleceğini al...</td>\n",
              "      <td>pozitif</td>\n",
              "    </tr>\n",
              "    <tr>\n",
              "      <th>36</th>\n",
              "      <td>uyuyakalmışım uyandık</td>\n",
              "      <td>negatif</td>\n",
              "    </tr>\n",
              "    <tr>\n",
              "      <th>37</th>\n",
              "      <td>cointoloji sonuç olarak kardeşim</td>\n",
              "      <td>pozitif</td>\n",
              "    </tr>\n",
              "    <tr>\n",
              "      <th>38</th>\n",
              "      <td>sxp kardeşim yavaş yavaş böyle ataklar bizi ko...</td>\n",
              "      <td>pozitif</td>\n",
              "    </tr>\n",
              "    <tr>\n",
              "      <th>39</th>\n",
              "      <td>Kafamı bir araya getiremiyorum</td>\n",
              "      <td>negatif</td>\n",
              "    </tr>\n",
              "    <tr>\n",
              "      <th>40</th>\n",
              "      <td>Kardeşim helikopter</td>\n",
              "      <td>pozitif</td>\n",
              "    </tr>\n",
              "    <tr>\n",
              "      <th>41</th>\n",
              "      <td>Samilkrt wowage Ulan bi tatil yapsam dert tasa...</td>\n",
              "      <td>pozitif</td>\n",
              "    </tr>\n",
              "    <tr>\n",
              "      <th>42</th>\n",
              "      <td>I just published FİNANSTA BLOCKCHAIN TEKNOLOJİ...</td>\n",
              "      <td>pozitif</td>\n",
              "    </tr>\n",
              "    <tr>\n",
              "      <th>43</th>\n",
              "      <td>Sabah sabah kırmızı oda dizisinin sesini duyar...</td>\n",
              "      <td>negatif</td>\n",
              "    </tr>\n",
              "    <tr>\n",
              "      <th>44</th>\n",
              "      <td>Saat beşte aklımdan çıkmayan am sorri ha</td>\n",
              "      <td>pozitif</td>\n",
              "    </tr>\n",
              "    <tr>\n",
              "      <th>45</th>\n",
              "      <td>bugün trendyolda işe girmedim</td>\n",
              "      <td>negatif</td>\n",
              "    </tr>\n",
              "    <tr>\n",
              "      <th>46</th>\n",
              "      <td>Adamın sesi gelmiyor amk</td>\n",
              "      <td>pozitif</td>\n",
              "    </tr>\n",
              "    <tr>\n",
              "      <th>47</th>\n",
              "      <td>Im not normal</td>\n",
              "      <td>negatif</td>\n",
              "    </tr>\n",
              "  </tbody>\n",
              "</table>\n",
              "</div>"
            ],
            "text/plain": [
              "                                                tweet Tweets_duygu\n",
              "0        O dur o anladın sen onu SendenNefretEdiyoruz      pozitif\n",
              "1                              Hayırlı uğurlu olsun        pozitif\n",
              "2                        Basket faul ya mükemmelsiniz      pozitif\n",
              "3           Larkin yeterki istesin evden atar basketi      pozitif\n",
              "4                  da faul aldı Anadolu Efes mükemmel      pozitif\n",
              "5   ben hayatın sillesini yemiş ve üzerine depikle...      negatif\n",
              "6                             hayatı şikayet ediyorum      negatif\n",
              "7                                                  Cv      pozitif\n",
              "8               penaltılar bitmeyecek sandım UELfinal      pozitif\n",
              "9                      bu gecenin sorumlusu ben miyim      negatif\n",
              "10  Abi hiç gülünecek bir durum yok tüm Türkiye iz...      pozitif\n",
              "11                             Biz ne izliyoz abi ooo      pozitif\n",
              "12    Soru soramayacaklarsa bu gazeteciler niye çıktı      negatif\n",
              "13   adam konuşuyor ama konuşmanın arkasında durmuyor      negatif\n",
              "14  açtık habertürkü de bu adam ne anlatıyor böyle...      negatif\n",
              "15                                         emoji dnm       pozitif\n",
              "16                             Konuyla ne alakası var      negatif\n",
              "17  Bi mevzuya da bakmayın kardeşim gidin başka iş...      negatif\n",
              "18  Ayrıca bu sektörde türeyen Hintlilerin amk kar...      negatif\n",
              "19                     Its programmed jajajjaj link        pozitif\n",
              "20        karanfilsin tarçınsın neden böyle hırçınsın      negatif\n",
              "21                    LINK  olsun benim kumarım biter      negatif\n",
              "22             Bugün sıra altcoinlere gelmicek galiba      negatif\n",
              "23                                  Benim beyin firar      negatif\n",
              "24  O kadar çok öğrenmem gereken şey varki bu yükü...      pozitif\n",
              "25                                  DogecoinToTheMoon      pozitif\n",
              "26       elon musk twit atsın diye bekliyorum x yapar      pozitif\n",
              "27  berkkberkkberkk SonGulyabani jeandpardaillan A...      pozitif\n",
              "28  adama lisans verdik amk kullansın diye bi süre...      negatif\n",
              "29         bu kapatmalar yüzünden etkilenmeyen yoktur      negatif\n",
              "30  bu da bi teşekkür etme yöntemi galiba ya da ku...      negatif\n",
              "31                         merveseell bangırr bangırr      pozitif\n",
              "32       dağa tırmanıyoruz sanki yorulan bıraksın sxp      pozitif\n",
              "33                                  Ayı aydınlattık        negatif\n",
              "34                     Oksijeni içimde hissettim şuan      pozitif\n",
              "35  cointoloji bizde kestiriyoruz yükseleceğini al...      pozitif\n",
              "36                              uyuyakalmışım uyandık      negatif\n",
              "37                   cointoloji sonuç olarak kardeşim      pozitif\n",
              "38  sxp kardeşim yavaş yavaş böyle ataklar bizi ko...      pozitif\n",
              "39                     Kafamı bir araya getiremiyorum      negatif\n",
              "40                                Kardeşim helikopter      pozitif\n",
              "41  Samilkrt wowage Ulan bi tatil yapsam dert tasa...      pozitif\n",
              "42  I just published FİNANSTA BLOCKCHAIN TEKNOLOJİ...      pozitif\n",
              "43  Sabah sabah kırmızı oda dizisinin sesini duyar...      negatif\n",
              "44       Saat beşte aklımdan çıkmayan am sorri ha          pozitif\n",
              "45                      bugün trendyolda işe girmedim      negatif\n",
              "46                           Adamın sesi gelmiyor amk      pozitif\n",
              "47                                      Im not normal      negatif"
            ]
          },
          "metadata": {
            "tags": []
          },
          "execution_count": 31
        }
      ]
    },
    {
      "cell_type": "markdown",
      "metadata": {
        "id": "rjormu8r0NGz"
      },
      "source": [
        "# **Sonuç**"
      ]
    },
    {
      "cell_type": "code",
      "metadata": {
        "colab": {
          "base_uri": "https://localhost:8080/"
        },
        "id": "EDfsFgpl0LXe",
        "outputId": "88674b23-92dd-4aae-ee84-b0997bb186ce"
      },
      "source": [
        "df_Tweetler['Tweets_duygu'].value_counts()"
      ],
      "execution_count": 32,
      "outputs": [
        {
          "output_type": "execute_result",
          "data": {
            "text/plain": [
              "pozitif    26\n",
              "negatif    22\n",
              "Name: Tweets_duygu, dtype: int64"
            ]
          },
          "metadata": {
            "tags": []
          },
          "execution_count": 32
        }
      ]
    },
    {
      "cell_type": "markdown",
      "metadata": {
        "id": "_TK70cY00FSw"
      },
      "source": [
        "# **Sonuçların Görselleştirilmesi**"
      ]
    },
    {
      "cell_type": "code",
      "metadata": {
        "colab": {
          "base_uri": "https://localhost:8080/",
          "height": 279
        },
        "id": "5lsIVIn10ETp",
        "outputId": "c2406b0f-94ea-459b-bde1-5856f438481e"
      },
      "source": [
        "sns.countplot(df_Tweetler.Tweets_duygu)\n",
        "plt.xlabel('inceleme');"
      ],
      "execution_count": 33,
      "outputs": [
        {
          "output_type": "display_data",
          "data": {
            "image/png": "[encoded data removed]",
            "text/plain": [
              "<Figure size 432x288 with 1 Axes>"
            ]
          },
          "metadata": {
            "tags": [],
            "needs_background": "light"
          }
        }
      ]
    },
    {
      "cell_type": "markdown",
      "metadata": {
        "id": "N7yq3ThB0f4P"
      },
      "source": [
        "# **Pasta histogram ile gösterilmesi**"
      ]
    },
    {
      "cell_type": "code",
      "metadata": {
        "colab": {
          "base_uri": "https://localhost:8080/",
          "height": 297
        },
        "id": "20LxIGiN0cHx",
        "outputId": "93075992-3dc4-4eb1-ac29-b359b398d882"
      },
      "source": [
        "\n",
        "pozitif = (df_Tweetler['Tweets_duygu'] == 'pozitif').sum()\n",
        "negatif = (df_Tweetler['Tweets_duygu'] == 'negatif').sum()\n",
        "\n",
        "# put them into a list called proportions\n",
        "proportions = [pozitif, negatif]\n",
        "\n",
        "# Create a pie chart\n",
        "plt.pie(\n",
        "    # using proportions\n",
        "    proportions,\n",
        "    \n",
        "    # with the labels being officer names\n",
        "    labels = ['pozitif', 'Negatif'],\n",
        "    \n",
        "    # with no shadows\n",
        "    shadow = False,\n",
        "    \n",
        "    # with colors\n",
        "    colors = ['blue','red'],\n",
        "    \n",
        "    # with one slide exploded out\n",
        "    explode = (0.15 , 0),\n",
        "    \n",
        "    # with the start angle at 90%\n",
        "    startangle = 90,\n",
        "    \n",
        "    # with the percent listed as a fraction\n",
        "    autopct = '%1.1f%%'\n",
        "    )\n",
        "\n",
        "# View the plot drop above\n",
        "plt.axis('equal')\n",
        "\n",
        "# Set labels\n",
        "plt.title(\"Twit dağılımı\")\n",
        "\n",
        "# View the plot\n",
        "plt.tight_layout()\n",
        "plt.show()"
      ],
      "execution_count": 52,
      "outputs": [
        {
          "output_type": "display_data",
          "data": {
            "image/png": "[encoded data removed]",
            "text/plain": [
              "<Figure size 432x288 with 1 Axes>"
            ]
          },
          "metadata": {
            "tags": []
          }
        }
      ]
    },
    {
      "cell_type": "markdown",
      "metadata": {
        "id": "9jzzZNbM0s4l"
      },
      "source": [
        "# **Histogram olarak gösterilmesi**"
      ]
    },
    {
      "cell_type": "code",
      "metadata": {
        "colab": {
          "base_uri": "https://localhost:8080/",
          "height": 295
        },
        "id": "nuQmax4r0nmV",
        "outputId": "620b50f2-ddd1-45d0-fb5f-94d29e02212f"
      },
      "source": [
        "\n",
        "# create histogram\n",
        "ttbill = sns.distplot(k);\n",
        "\n",
        "# set lables and titles\n",
        "ttbill.set(xlabel = 'score', ylabel = 'adet', title = \"score histogramı\")\n",
        "\n",
        "# take out the right and upper borders\n",
        "sns.despine()"
      ],
      "execution_count": 34,
      "outputs": [
        {
          "output_type": "display_data",
          "data": {
            "image/png": "[encoded data removed]",
            "text/plain": [
              "<Figure size 432x288 with 1 Axes>"
            ]
          },
          "metadata": {
            "tags": [],
            "needs_background": "light"
          }
        }
      ]
    },
    {
      "cell_type": "markdown",
      "metadata": {
        "id": "s4wDGCvD02Vs"
      },
      "source": [
        "[***Evet arkdaşlar sona geldiniz bi starınız alırım... :) İşinize yaradıysa ne mutlu bana..kolay gelsin***](https://github.com/alperbayram/Turkish-NLP-examples)"
      ]
    }
  ]
}